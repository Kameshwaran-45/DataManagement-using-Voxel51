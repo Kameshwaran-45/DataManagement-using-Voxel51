{
 "cells": [
  {
   "cell_type": "code",
   "execution_count": 1,
   "id": "776343d7-4560-4f5e-997b-81de1b27726e",
   "metadata": {},
   "outputs": [],
   "source": [
    "import os\n",
    "import fiftyone as fo"
   ]
  },
  {
   "cell_type": "code",
   "execution_count": 2,
   "id": "fb6127fc-52ae-49d8-809a-44d89eec5290",
   "metadata": {},
   "outputs": [],
   "source": [
    "# Define image directory\n",
    "SIMILARITY_DIR = r'C:/Users/ktb3kor/Downloads/Projects/AVops/nuscene-images/images/'\n",
    "\n",
    "if not os.path.exists(SIMILARITY_DIR):\n",
    "    raise Exception(f\"Directory not found: {SIMILARITY_DIR}\")"
   ]
  },
  {
   "cell_type": "code",
   "execution_count": 3,
   "id": "2531c94c-8e1c-40e5-8801-0a87c526dc0d",
   "metadata": {},
   "outputs": [
    {
     "name": "stdout",
     "output_type": "stream",
     "text": [
      "Retrieved 2424 image file(s).\n"
     ]
    }
   ],
   "source": [
    "# Fetch image file paths\n",
    "filepaths = []\n",
    "for root, _, files in os.walk(SIMILARITY_DIR):\n",
    "    for file in files:\n",
    "        if file.lower().endswith((\".jpg\", \".jpeg\", \".png\", \".bmp\", \".tiff\")):\n",
    "            filepaths.append(os.path.join(root, file))\n",
    "\n",
    "if not filepaths:\n",
    "    raise Exception(\"No images found in the directory.\")\n",
    "\n",
    "print(f\"Retrieved {len(filepaths)} image file(s).\")"
   ]
  },
  {
   "cell_type": "code",
   "execution_count": 4,
   "id": "d56199b9-353a-4621-84a9-e0f8c86bc438",
   "metadata": {},
   "outputs": [],
   "source": [
    "# ---------------- Create FiftyOne Dataset ---------------- #\n",
    "\n",
    "dataset_name = \"Image_Visualisation\"\n",
    "if fo.dataset_exists(dataset_name):\n",
    "    fo.delete_dataset(dataset_name)\n",
    "\n",
    "dataset = fo.Dataset(name=dataset_name)"
   ]
  },
  {
   "cell_type": "code",
   "execution_count": 7,
   "id": "e231eaca-b498-49e0-9a34-e5a6ae4512e2",
   "metadata": {},
   "outputs": [],
   "source": [
    "for filepath in filepaths:\n",
    "    sample = fo.Sample(filepath=filepath)\n",
    "    dataset.add_sample(sample)"
   ]
  },
  {
   "cell_type": "code",
   "execution_count": 10,
   "id": "225ce834-3384-44f2-9499-29852a48eb3e",
   "metadata": {},
   "outputs": [
    {
     "name": "stdout",
     "output_type": "stream",
     "text": [
      "Connected to FiftyOne on port 8090 at localhost.\n",
      "If you are not connecting to a remote session, you may need to start a new session and specify a port\n",
      "Session launched. Run `session.show()` to open the App in a cell output.\n",
      "FiftyOne session URL: http://localhost:8090/\n"
     ]
    }
   ],
   "source": [
    "# ---------------- Launch FiftyOne App ---------------- #\n",
    "\n",
    "session = fo.launch_app(dataset, auto=False, port=8090)\n",
    "\n",
    "print(f\"FiftyOne session URL: {session.url}\")"
   ]
  },
  {
   "cell_type": "code",
   "execution_count": null,
   "id": "57f9faf3-b4c8-4639-83c5-f64a73a25398",
   "metadata": {},
   "outputs": [],
   "source": []
  }
 ],
 "metadata": {
  "kernelspec": {
   "display_name": "Python 3 (ipykernel)",
   "language": "python",
   "name": "python3"
  },
  "language_info": {
   "codemirror_mode": {
    "name": "ipython",
    "version": 3
   },
   "file_extension": ".py",
   "mimetype": "text/x-python",
   "name": "python",
   "nbconvert_exporter": "python",
   "pygments_lexer": "ipython3",
   "version": "3.9.0"
  }
 },
 "nbformat": 4,
 "nbformat_minor": 5
}
